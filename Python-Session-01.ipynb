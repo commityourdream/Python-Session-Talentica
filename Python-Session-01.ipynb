{
 "cells": [
  {
   "cell_type": "markdown",
   "id": "aa9b71a3",
   "metadata": {},
   "source": [
    "# String"
   ]
  },
  {
   "cell_type": "code",
   "execution_count": null,
   "id": "8ad06d9d",
   "metadata": {},
   "outputs": [],
   "source": [
    "a=10\n",
    "print(type(a))\n",
    "f=1.234\n",
    "print(type(f))"
   ]
  },
  {
   "cell_type": "code",
   "execution_count": null,
   "id": "c1991584",
   "metadata": {},
   "outputs": [],
   "source": [
    "#single quotes and double quotes\n",
    "s1='Talentica'\n",
    "s2=\"Talentica\"\n",
    "print(s1)\n",
    "print(s2)\n",
    "print(type(s1))"
   ]
  },
  {
   "cell_type": "code",
   "execution_count": null,
   "id": "c258ff76",
   "metadata": {},
   "outputs": [],
   "source": [
    "print('Hello World')"
   ]
  },
  {
   "cell_type": "code",
   "execution_count": null,
   "id": "b5e9bd8e",
   "metadata": {},
   "outputs": [],
   "source": [
    "#multi line string\n",
    "s1='''Talentica\n",
    "Software'''\n",
    "print(s1)\n",
    "\n",
    "s2=\"\"\"Talentica\n",
    "Software\"\"\"\n",
    "print(s2)"
   ]
  },
  {
   "cell_type": "code",
   "execution_count": null,
   "id": "49f2c82e",
   "metadata": {},
   "outputs": [],
   "source": [
    "#slicing of strings"
   ]
  },
  {
   "cell_type": "code",
   "execution_count": null,
   "id": "fd571f2d",
   "metadata": {},
   "outputs": [],
   "source": [
    "s1='Talentica'\n",
    "s1[0]\n"
   ]
  },
  {
   "cell_type": "code",
   "execution_count": null,
   "id": "f12840b6",
   "metadata": {},
   "outputs": [],
   "source": [
    "s1[2]"
   ]
  },
  {
   "cell_type": "code",
   "execution_count": null,
   "id": "0ec0ce3b",
   "metadata": {},
   "outputs": [],
   "source": [
    "s1[-1]"
   ]
  },
  {
   "cell_type": "code",
   "execution_count": null,
   "id": "b4b0b17d",
   "metadata": {},
   "outputs": [],
   "source": [
    "s1[20]"
   ]
  },
  {
   "cell_type": "markdown",
   "id": "92b8cb31",
   "metadata": {},
   "source": [
    "# List"
   ]
  },
  {
   "cell_type": "code",
   "execution_count": null,
   "id": "d2a7237e",
   "metadata": {},
   "outputs": [],
   "source": [
    "list1=[10,20,30,40]\n",
    "print(type(list1))\n",
    "list1[0]"
   ]
  },
  {
   "cell_type": "code",
   "execution_count": null,
   "id": "70e6566f",
   "metadata": {},
   "outputs": [],
   "source": [
    "list1[-1]"
   ]
  },
  {
   "cell_type": "code",
   "execution_count": null,
   "id": "4e8fa84a",
   "metadata": {},
   "outputs": [],
   "source": [
    "list1[1:3]"
   ]
  },
  {
   "cell_type": "code",
   "execution_count": null,
   "id": "b39929b2",
   "metadata": {},
   "outputs": [],
   "source": [
    "list1[0]=100\n",
    "\n",
    "for i in list1:\n",
    "    print(i)"
   ]
  },
  {
   "cell_type": "code",
   "execution_count": null,
   "id": "b3e88925",
   "metadata": {},
   "outputs": [],
   "source": [
    "#list is growable in nature[we can increase or decrease the size]\n"
   ]
  },
  {
   "cell_type": "code",
   "execution_count": null,
   "id": "a6cb7c76",
   "metadata": {},
   "outputs": [],
   "source": [
    "list1=[10,20,30,40]\n",
    "list1.append('Talentica')"
   ]
  },
  {
   "cell_type": "code",
   "execution_count": null,
   "id": "a993d5fc",
   "metadata": {},
   "outputs": [],
   "source": [
    "list1"
   ]
  },
  {
   "cell_type": "code",
   "execution_count": null,
   "id": "c01228df",
   "metadata": {},
   "outputs": [],
   "source": [
    "list1.remove(20)"
   ]
  },
  {
   "cell_type": "code",
   "execution_count": null,
   "id": "aad74f41",
   "metadata": {},
   "outputs": [],
   "source": [
    "list1"
   ]
  },
  {
   "cell_type": "code",
   "execution_count": null,
   "id": "baddece5",
   "metadata": {},
   "outputs": [],
   "source": [
    "list2=list1*2\n",
    "list2"
   ]
  },
  {
   "cell_type": "code",
   "execution_count": null,
   "id": "38bdccb3",
   "metadata": {},
   "outputs": [],
   "source": [
    "print(dir(list2))"
   ]
  },
  {
   "cell_type": "markdown",
   "id": "93ff4e25",
   "metadata": {},
   "source": [
    "# Tuple"
   ]
  },
  {
   "cell_type": "code",
   "execution_count": null,
   "id": "7628506e",
   "metadata": {},
   "outputs": [],
   "source": [
    "t=(10,20,30,40)\n",
    "type(t)"
   ]
  },
  {
   "cell_type": "code",
   "execution_count": null,
   "id": "c57421dc",
   "metadata": {},
   "outputs": [],
   "source": [
    "t[0]=100"
   ]
  },
  {
   "cell_type": "code",
   "execution_count": null,
   "id": "965e331a",
   "metadata": {},
   "outputs": [],
   "source": [
    "t.append('Talentica')"
   ]
  },
  {
   "cell_type": "code",
   "execution_count": null,
   "id": "731e2120",
   "metadata": {},
   "outputs": [],
   "source": [
    "t.remove(10)"
   ]
  },
  {
   "cell_type": "markdown",
   "id": "b4399a35",
   "metadata": {},
   "source": [
    "# Dict"
   ]
  },
  {
   "cell_type": "code",
   "execution_count": null,
   "id": "124b29a7",
   "metadata": {},
   "outputs": [],
   "source": [
    "d={1:'Amit',2:'Alakh',3:'Talentica'}\n",
    "d"
   ]
  },
  {
   "cell_type": "code",
   "execution_count": null,
   "id": "fc5eca59",
   "metadata": {},
   "outputs": [],
   "source": [
    "print(type(d))"
   ]
  },
  {
   "cell_type": "code",
   "execution_count": null,
   "id": "24a10ef0",
   "metadata": {},
   "outputs": [],
   "source": [
    "d[1]"
   ]
  },
  {
   "cell_type": "code",
   "execution_count": null,
   "id": "083ec951",
   "metadata": {},
   "outputs": [],
   "source": [
    "d[2]"
   ]
  },
  {
   "cell_type": "code",
   "execution_count": null,
   "id": "0acd8016",
   "metadata": {},
   "outputs": [],
   "source": [
    "#empty dict\n",
    "d1={}\n",
    "d1['a']='apple'\n",
    "d1['b']='banana'\n",
    "print(d1)"
   ]
  },
  {
   "cell_type": "code",
   "execution_count": null,
   "id": "c42ed169",
   "metadata": {},
   "outputs": [],
   "source": [
    "# Example Creating a dictionary with unique keys and duplicate values\n",
    "fruit_colors = {\n",
    "    'apple': 'red',\n",
    "    'banana': 'yellow',\n",
    "    'orange': 'orange',\n",
    "    'grape': 'purple',\n",
    "    'kiwi': 'green',\n",
    "    'watermelon': 'green'\n",
    "}\n",
    "\n",
    "print(fruit_colors)\n"
   ]
  },
  {
   "cell_type": "code",
   "execution_count": null,
   "id": "8d0305f5",
   "metadata": {},
   "outputs": [],
   "source": [
    "# Example: Modifying values using keys\n",
    "fruit_colors['apple'] = 'green'\n",
    "print(fruit_colors['apple'])  "
   ]
  },
  {
   "cell_type": "code",
   "execution_count": null,
   "id": "adbdab06",
   "metadata": {},
   "outputs": [],
   "source": [
    "# Example: Attempting to create a dictionary with duplicate keys\n",
    "student_scores = {\n",
    "    'Alice': 85,\n",
    "    'Bob': 'apple',\n",
    "    'Alice': 78  # Duplicate key 'Alice'\n",
    "}\n",
    "\n",
    "# This will result in a dictionary with only one entry for 'Alice'\n",
    "print(student_scores)\n"
   ]
  },
  {
   "cell_type": "markdown",
   "id": "f82e2d43",
   "metadata": {},
   "source": [
    "# Set Data Type"
   ]
  },
  {
   "cell_type": "code",
   "execution_count": null,
   "id": "62182b33",
   "metadata": {},
   "outputs": [],
   "source": [
    "s={100,300,400,'Talentica',200}\n",
    "print(s)"
   ]
  },
  {
   "cell_type": "code",
   "execution_count": null,
   "id": "a3f78bd5",
   "metadata": {},
   "outputs": [],
   "source": [
    "s[0]"
   ]
  },
  {
   "cell_type": "code",
   "execution_count": null,
   "id": "b1dc2d9d",
   "metadata": {},
   "outputs": [],
   "source": [
    "print(s)"
   ]
  },
  {
   "cell_type": "code",
   "execution_count": null,
   "id": "83fa49e0",
   "metadata": {},
   "outputs": [],
   "source": [
    "s.add(200) #duplicate\n",
    "s"
   ]
  },
  {
   "cell_type": "code",
   "execution_count": null,
   "id": "366a91ac",
   "metadata": {},
   "outputs": [],
   "source": [
    "s.add(600)\n",
    "s"
   ]
  },
  {
   "cell_type": "code",
   "execution_count": null,
   "id": "97ee866a",
   "metadata": {},
   "outputs": [],
   "source": [
    "s.remove(300)"
   ]
  },
  {
   "cell_type": "code",
   "execution_count": null,
   "id": "5b93ea03",
   "metadata": {},
   "outputs": [],
   "source": [
    "s.remove(100)\n",
    "print(s)"
   ]
  },
  {
   "cell_type": "markdown",
   "id": "dde6e097",
   "metadata": {},
   "source": [
    "# frozenset Data Type"
   ]
  },
  {
   "cell_type": "code",
   "execution_count": null,
   "id": "c1ee46ba",
   "metadata": {},
   "outputs": [],
   "source": [
    "s={10,20,30,40,50}\n",
    "print(type(s))\n",
    "fs=frozenset(s)\n",
    "type(fs)\n",
    "print(fs)"
   ]
  },
  {
   "cell_type": "code",
   "execution_count": null,
   "id": "3eecce17",
   "metadata": {},
   "outputs": [],
   "source": [
    "fs.add(70)"
   ]
  },
  {
   "cell_type": "code",
   "execution_count": null,
   "id": "e46de2b6",
   "metadata": {},
   "outputs": [],
   "source": [
    "fs.remove(10)"
   ]
  },
  {
   "cell_type": "markdown",
   "id": "3badc5a1",
   "metadata": {},
   "source": [
    "# Logical Operators"
   ]
  },
  {
   "cell_type": "code",
   "execution_count": null,
   "id": "5a7f5e1e",
   "metadata": {},
   "outputs": [],
   "source": [
    "x = True\n",
    "y = False\n",
    "\n",
    "result = x and y\n",
    "print(result)  # Output: False\n"
   ]
  },
  {
   "cell_type": "code",
   "execution_count": null,
   "id": "d2a2d00e",
   "metadata": {},
   "outputs": [],
   "source": [
    "x = True\n",
    "y = False\n",
    "\n",
    "result = x or y\n",
    "print(result)  # Output: True\n"
   ]
  },
  {
   "cell_type": "code",
   "execution_count": null,
   "id": "1c6cafdd",
   "metadata": {},
   "outputs": [],
   "source": [
    "x = True\n",
    "\n",
    "result = not x\n",
    "print(result)  # Output: False\n"
   ]
  },
  {
   "cell_type": "code",
   "execution_count": null,
   "id": "5b39b77e",
   "metadata": {},
   "outputs": [],
   "source": [
    "a = 10\n",
    "b = 15\n",
    "c = 5\n",
    "\n",
    "# Using logical operators to combine conditions\n",
    "result1 = (a < b) and (b > c)\n",
    "result2 = (a < b) or (c > b)\n",
    "result3 = not (a == b)\n",
    "\n",
    "print(result1)  # Output: True (Both conditions are True)\n",
    "print(result2)  # Output: True (At least one condition is True)\n",
    "print(result3)  # Output: True (The opposite of a == b is True)\n"
   ]
  },
  {
   "cell_type": "markdown",
   "id": "49fad90d",
   "metadata": {},
   "source": [
    "# Flow Control"
   ]
  },
  {
   "cell_type": "code",
   "execution_count": null,
   "id": "0f4acf65",
   "metadata": {},
   "outputs": [],
   "source": [
    "#Conditional Statement\n"
   ]
  },
  {
   "cell_type": "code",
   "execution_count": 3,
   "id": "61fd0d02",
   "metadata": {},
   "outputs": [
    {
     "ename": "IndentationError",
     "evalue": "expected an indented block after 'if' statement on line 2 (3727416540.py, line 3)",
     "output_type": "error",
     "traceback": [
      "\u001b[1;36m  Cell \u001b[1;32mIn[3], line 3\u001b[1;36m\u001b[0m\n\u001b[1;33m    print('Hello Talentica')\u001b[0m\n\u001b[1;37m    ^\u001b[0m\n\u001b[1;31mIndentationError\u001b[0m\u001b[1;31m:\u001b[0m expected an indented block after 'if' statement on line 2\n"
     ]
    }
   ],
   "source": [
    "name=input('Enter your name:')\n",
    "if name=='Talentica':\n",
    "    print('Hello Talentica')\n",
    "\n",
    "print('How are you')"
   ]
  },
  {
   "cell_type": "code",
   "execution_count": 5,
   "id": "80dec41b",
   "metadata": {},
   "outputs": [
    {
     "name": "stdout",
     "output_type": "stream",
     "text": [
      "Enter your name:python\n",
      "Hello Guest\n"
     ]
    }
   ],
   "source": [
    "name=input('Enter your name:')\n",
    "if name=='Talentica':\n",
    "    print('Hello Talentica')\n",
    "else:\n",
    "    print('Hello Guest')"
   ]
  },
  {
   "cell_type": "code",
   "execution_count": 6,
   "id": "f1b88099",
   "metadata": {},
   "outputs": [
    {
     "name": "stdout",
     "output_type": "stream",
     "text": [
      "Enter your favourite brandFK\n",
      "it is Flipkart\n"
     ]
    }
   ],
   "source": [
    "brand=input('Enter your favourite brand')\n",
    "if brand=='FK':\n",
    "    print('it is Flipkart')\n",
    "elif brand=='AN':\n",
    "    print('it is Amazon')\n",
    "    \n",
    "elif brand=='MA':\n",
    "    print('it is Myntra')\n",
    "    \n",
    "else:\n",
    "    print('Others Brand are not recommended')\n",
    "    "
   ]
  },
  {
   "cell_type": "code",
   "execution_count": null,
   "id": "25ff540e",
   "metadata": {},
   "outputs": [],
   "source": [
    "#iterative statement"
   ]
  },
  {
   "cell_type": "code",
   "execution_count": 7,
   "id": "ae037f33",
   "metadata": {},
   "outputs": [
    {
     "name": "stdout",
     "output_type": "stream",
     "text": [
      "T\n",
      "a\n",
      "l\n",
      "e\n",
      "n\n",
      "t\n",
      "i\n",
      "c\n",
      "a\n"
     ]
    }
   ],
   "source": [
    "s='Talentica'\n",
    "for x in s:\n",
    "    print(x)"
   ]
  },
  {
   "cell_type": "code",
   "execution_count": 8,
   "id": "66875086",
   "metadata": {},
   "outputs": [
    {
     "name": "stdout",
     "output_type": "stream",
     "text": [
      "0\n",
      "1\n",
      "2\n",
      "3\n",
      "4\n",
      "5\n",
      "6\n",
      "7\n",
      "8\n",
      "9\n"
     ]
    }
   ],
   "source": [
    "for x in range(10):\n",
    "    print(x)"
   ]
  },
  {
   "cell_type": "code",
   "execution_count": 9,
   "id": "da5b20e8",
   "metadata": {},
   "outputs": [
    {
     "name": "stdout",
     "output_type": "stream",
     "text": [
      "1\n",
      "2\n",
      "3\n",
      "4\n",
      "5\n"
     ]
    }
   ],
   "source": [
    "#while loop\n",
    "\n",
    "count = 1\n",
    "while count <= 5:\n",
    "    print(count)\n",
    "    count += 1  # Increment count by 1 in each iteration\n"
   ]
  },
  {
   "cell_type": "code",
   "execution_count": null,
   "id": "bdf9ed53",
   "metadata": {},
   "outputs": [],
   "source": [
    "#Transfer Statements\n"
   ]
  },
  {
   "cell_type": "code",
   "execution_count": 10,
   "id": "e14ee968",
   "metadata": {},
   "outputs": [
    {
     "name": "stdout",
     "output_type": "stream",
     "text": [
      "0\n",
      "1\n",
      "2\n",
      "3\n",
      "4\n",
      "5\n",
      "6\n",
      "Processing is enough\n"
     ]
    }
   ],
   "source": [
    "#break\n",
    "for i in range(10):\n",
    "    if i==7:\n",
    "        print(\"Processing is enough\")\n",
    "        break\n",
    "    print(i)"
   ]
  },
  {
   "cell_type": "code",
   "execution_count": 11,
   "id": "dc86d51f",
   "metadata": {},
   "outputs": [
    {
     "name": "stdout",
     "output_type": "stream",
     "text": [
      "1\n",
      "3\n",
      "5\n",
      "7\n",
      "9\n"
     ]
    }
   ],
   "source": [
    "#continue\n",
    "for i in range(10):\n",
    "    if i%2==0:\n",
    "        continue\n",
    "    print(i)"
   ]
  },
  {
   "cell_type": "code",
   "execution_count": 12,
   "id": "d1d1cd70",
   "metadata": {},
   "outputs": [
    {
     "name": "stdout",
     "output_type": "stream",
     "text": [
      "0\n",
      "9\n",
      "18\n",
      "27\n",
      "36\n",
      "45\n",
      "54\n",
      "63\n",
      "72\n",
      "81\n",
      "90\n",
      "99\n"
     ]
    }
   ],
   "source": [
    "#pass\n",
    "for i in range(100):\n",
    "    if i%9==0:\n",
    "        print(i)\n",
    "    else:\n",
    "        pass"
   ]
  },
  {
   "cell_type": "markdown",
   "id": "ae81e3b9",
   "metadata": {},
   "source": [
    "# Function"
   ]
  },
  {
   "cell_type": "code",
   "execution_count": 13,
   "id": "b3c9366d",
   "metadata": {},
   "outputs": [
    {
     "name": "stdout",
     "output_type": "stream",
     "text": [
      "Hello Amit Good Morning\n"
     ]
    }
   ],
   "source": [
    "def wish(name):\n",
    "    print(\"Hello\",name,\"Good Morning\")\n",
    "wish('Amit')"
   ]
  },
  {
   "cell_type": "code",
   "execution_count": 14,
   "id": "5dc99b53",
   "metadata": {},
   "outputs": [
    {
     "name": "stdout",
     "output_type": "stream",
     "text": [
      "The sum is 30\n"
     ]
    }
   ],
   "source": [
    "def add(x,y):\n",
    "    return x+y\n",
    "\n",
    "result=add(10,20)\n",
    "print('The sum is',result)"
   ]
  },
  {
   "cell_type": "code",
   "execution_count": 15,
   "id": "1b50a7f9",
   "metadata": {},
   "outputs": [
    {
     "name": "stdout",
     "output_type": "stream",
     "text": [
      "100\n",
      "-100\n"
     ]
    },
    {
     "ename": "TypeError",
     "evalue": "sub() takes 2 positional arguments but 3 were given",
     "output_type": "error",
     "traceback": [
      "\u001b[1;31m---------------------------------------------------------------------------\u001b[0m",
      "\u001b[1;31mTypeError\u001b[0m                                 Traceback (most recent call last)",
      "Cell \u001b[1;32mIn[15], line 8\u001b[0m\n\u001b[0;32m      6\u001b[0m sub(\u001b[38;5;241m200\u001b[39m,\u001b[38;5;241m100\u001b[39m)\n\u001b[0;32m      7\u001b[0m sub(\u001b[38;5;241m100\u001b[39m,\u001b[38;5;241m200\u001b[39m)\n\u001b[1;32m----> 8\u001b[0m \u001b[43msub\u001b[49m\u001b[43m(\u001b[49m\u001b[38;5;241;43m200\u001b[39;49m\u001b[43m,\u001b[49m\u001b[38;5;241;43m300\u001b[39;49m\u001b[43m,\u001b[49m\u001b[38;5;241;43m100\u001b[39;49m\u001b[43m)\u001b[49m\n",
      "\u001b[1;31mTypeError\u001b[0m: sub() takes 2 positional arguments but 3 were given"
     ]
    }
   ],
   "source": [
    "#positional arguments\n",
    "\n",
    "def sub(a,b):\n",
    "    print(a-b)\n",
    "\n",
    "sub(200,100)\n",
    "\n",
    "sub(100,200)\n",
    "\n",
    "sub(200,300,100)"
   ]
  },
  {
   "cell_type": "code",
   "execution_count": 16,
   "id": "787e3d9b",
   "metadata": {},
   "outputs": [
    {
     "name": "stdout",
     "output_type": "stream",
     "text": [
      "Hello Amit Good Morning\n",
      "Hello Amit Good Morning\n"
     ]
    }
   ],
   "source": [
    "#Keyword arguments\n",
    "\n",
    "def wish(name,msg):\n",
    "    print(\"Hello\",name,msg)\n",
    "\n",
    "wish(name='Amit',msg='Good Morning')\n",
    "wish(msg='Good Morning',name='Amit',)"
   ]
  },
  {
   "cell_type": "code",
   "execution_count": 17,
   "id": "5e0217ce",
   "metadata": {},
   "outputs": [
    {
     "name": "stdout",
     "output_type": "stream",
     "text": [
      "Hello Amit Good Morning\n",
      "Hello Guest Good Morning\n"
     ]
    }
   ],
   "source": [
    "#default arguments\n",
    "\n",
    "def wish(name='Guest'):\n",
    "    print('Hello',name,'Good Morning')\n",
    "    \n",
    "wish('Amit')\n",
    "wish()"
   ]
  },
  {
   "cell_type": "code",
   "execution_count": 18,
   "id": "e26654f8",
   "metadata": {},
   "outputs": [
    {
     "name": "stdout",
     "output_type": "stream",
     "text": [
      "The Sum= 0\n",
      "The Sum= 10\n",
      "The Sum= 30\n",
      "The Sum= 150\n"
     ]
    }
   ],
   "source": [
    "#Varaible length Arguments\n",
    "\n",
    "def sum(*n):\n",
    "    total=0\n",
    "    for n1 in n:\n",
    "        total=total+n1\n",
    "    print('The Sum=',total)\n",
    "    \n",
    "sum()\n",
    "sum(10)\n",
    "sum(10,20)\n",
    "sum(10,20,30,40,50)"
   ]
  },
  {
   "cell_type": "code",
   "execution_count": null,
   "id": "9d2fb321",
   "metadata": {},
   "outputs": [],
   "source": []
  },
  {
   "cell_type": "code",
   "execution_count": null,
   "id": "ee5515af",
   "metadata": {},
   "outputs": [],
   "source": []
  }
 ],
 "metadata": {
  "kernelspec": {
   "display_name": "Python 3 (ipykernel)",
   "language": "python",
   "name": "python3"
  },
  "language_info": {
   "codemirror_mode": {
    "name": "ipython",
    "version": 3
   },
   "file_extension": ".py",
   "mimetype": "text/x-python",
   "name": "python",
   "nbconvert_exporter": "python",
   "pygments_lexer": "ipython3",
   "version": "3.10.9"
  }
 },
 "nbformat": 4,
 "nbformat_minor": 5
}
