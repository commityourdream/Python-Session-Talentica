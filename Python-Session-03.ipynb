{
 "cells": [
  {
   "cell_type": "code",
   "execution_count": 3,
   "id": "07d01a0a",
   "metadata": {},
   "outputs": [
    {
     "name": "stdout",
     "output_type": "stream",
     "text": [
      "Read Mode:\n",
      "Hello World!\n"
     ]
    }
   ],
   "source": [
    "# 'r' (Read) Mode\n",
    "try:\n",
    "    with open('example.txt', 'r') as file:\n",
    "        content = file.read()\n",
    "    print(\"Read Mode:\")\n",
    "    print(content)\n",
    "except FileNotFoundError:\n",
    "    print(\"File not found.\")"
   ]
  },
  {
   "cell_type": "code",
   "execution_count": 4,
   "id": "487d663d",
   "metadata": {},
   "outputs": [],
   "source": [
    "# 'w' (Write) Mode\n",
    "\n",
    "with open('example2.txt', 'w') as file:\n",
    "    file.write(\"This is the new content for write mode.\")"
   ]
  },
  {
   "cell_type": "code",
   "execution_count": 5,
   "id": "90773e60",
   "metadata": {},
   "outputs": [],
   "source": [
    "# 'a' (Append) Mode\n",
    "\n",
    "with open('example.txt', 'a') as file:\n",
    "    file.write(\"\\nThis is appended content for append mode.\")"
   ]
  },
  {
   "cell_type": "code",
   "execution_count": 6,
   "id": "332636b4",
   "metadata": {},
   "outputs": [],
   "source": [
    "# 'b' (Binary) Mode (Writing binary data)\n",
    "\n",
    "with open('binary_data.bin', 'wb') as file:\n",
    "    file.write(b'\\x48\\x45\\x4C\\x4C\\x4F')  # Writing 'HELLO' in binary"
   ]
  },
  {
   "cell_type": "code",
   "execution_count": 7,
   "id": "15f56baa",
   "metadata": {},
   "outputs": [
    {
     "name": "stdout",
     "output_type": "stream",
     "text": [
      "File already exists in exclusive creation mode.\n"
     ]
    }
   ],
   "source": [
    "# 'x' (Exclusive creation) Mode\n",
    "try:\n",
    "    with open('example.txt', 'x') as file:\n",
    "        file.write(\"This is exclusive creation mode.\")\n",
    "except FileExistsError:\n",
    "    print(\"File already exists in exclusive creation mode.\")"
   ]
  },
  {
   "cell_type": "code",
   "execution_count": 8,
   "id": "0b3942e3",
   "metadata": {},
   "outputs": [
    {
     "name": "stdout",
     "output_type": "stream",
     "text": [
      "\n",
      "Text Mode:\n",
      "Hello World!\n",
      "This is appended content for append mode.\n"
     ]
    }
   ],
   "source": [
    "# 't' (Text) Mode (Default)\n",
    "with open('example.txt', 'rt') as file:\n",
    "    content = file.read()\n",
    "print(\"\\nText Mode:\")\n",
    "print(content)"
   ]
  },
  {
   "cell_type": "code",
   "execution_count": 11,
   "id": "d8558b4a",
   "metadata": {},
   "outputs": [],
   "source": [
    "# Open the file in 'r+' mode\n",
    "with open('example.txt', 'r+') as file:\n",
    "    content = file.read()  # Read the existing content\n",
    "    file.seek(0)  # Move the file pointer to the beginning\n",
    "    file.write(\"New content\")  # Overwrite the existing content\n",
    "    file.truncate()  # Truncate the file to the current position (removing any extra content)\n",
    "\n",
    "# Now the file contains \"New content\" without any remnants of the old content.\n"
   ]
  },
  {
   "cell_type": "code",
   "execution_count": 13,
   "id": "f755ff19",
   "metadata": {},
   "outputs": [
    {
     "name": "stdout",
     "output_type": "stream",
     "text": [
      "New content\n"
     ]
    }
   ],
   "source": [
    "# Open a file without 'with open'\n",
    "file = open('example.txt', 'r')\n",
    "\n",
    "try:\n",
    "    content = file.read()\n",
    "    print(content)\n",
    "finally:\n",
    "    file.close()  # Close the file in a finally block to ensure it's always closed\n",
    "\n"
   ]
  },
  {
   "cell_type": "markdown",
   "id": "8c4f5ebe",
   "metadata": {},
   "source": [
    "# Handling CSV Files"
   ]
  },
  {
   "cell_type": "code",
   "execution_count": null,
   "id": "1e01c79c",
   "metadata": {},
   "outputs": [],
   "source": [
    "#Read Mode ('r'):\n",
    "\n",
    "#open an existing CSV file in read mode and print its content.\n",
    "#newline='' is recommended, as it helps prevent unexpected line ending issues when working with CSV files"
   ]
  },
  {
   "cell_type": "code",
   "execution_count": 15,
   "id": "0e78e164",
   "metadata": {
    "scrolled": true
   },
   "outputs": [
    {
     "name": "stdout",
     "output_type": "stream",
     "text": [
      "['EMPLOYEE_ID', 'FIRST_NAME', 'LAST_NAME', 'EMAIL', 'PHONE_NUMBER', 'HIRE_DATE', 'JOB_ID', 'SALARY', 'COMMISSION_PCT', 'MANAGER_ID', 'DEPARTMENT_ID']\n",
      "['198', 'Donald', 'OConnell', 'DOCONNEL', '650.507.9833', '21-JUN-07', 'SH_CLERK', '2600', ' - ', '124', '50']\n",
      "['199', 'Douglas', 'Grant', 'DGRANT', '650.507.9844', '13-JAN-08', 'SH_CLERK', '2600', ' - ', '124', '50']\n",
      "['200', 'Jennifer', 'Whalen', 'JWHALEN', '515.123.4444', '17-SEP-03', 'AD_ASST', '4400', ' - ', '101', '10']\n",
      "['201', 'Michael', 'Hartstein', 'MHARTSTE', '515.123.5555', '17-FEB-04', 'MK_MAN', '13000', ' - ', '100', '20']\n",
      "['202', 'Pat', 'Fay', 'PFAY', '603.123.6666', '17-AUG-05', 'MK_REP', '6000', ' - ', '201', '20']\n",
      "['203', 'Susan', 'Mavris', 'SMAVRIS', '515.123.7777', '07-JUN-02', 'HR_REP', '6500', ' - ', '101', '40']\n",
      "['204', 'Hermann', 'Baer', 'HBAER', '515.123.8888', '07-JUN-02', 'PR_REP', '10000', ' - ', '101', '70']\n",
      "['205', 'Shelley', 'Higgins', 'SHIGGINS', '515.123.8080', '07-JUN-02', 'AC_MGR', '12008', ' - ', '101', '110']\n",
      "['206', 'William', 'Gietz', 'WGIETZ', '515.123.8181', '07-JUN-02', 'AC_ACCOUNT', '8300', ' - ', '205', '110']\n",
      "['100', 'Steven', 'King', 'SKING', '515.123.4567', '17-JUN-03', 'AD_PRES', '24000', ' - ', ' - ', '90']\n",
      "['101', 'Neena', 'Kochhar', 'NKOCHHAR', '515.123.4568', '21-SEP-05', 'AD_VP', '17000', ' - ', '100', '90']\n",
      "['102', 'Lex', 'De Haan', 'LDEHAAN', '515.123.4569', '13-JAN-01', 'AD_VP', '17000', ' - ', '100', '90']\n",
      "['103', 'Alexander', 'Hunold', 'AHUNOLD', '590.423.4567', '03-JAN-06', 'IT_PROG', '9000', ' - ', '102', '60']\n",
      "['104', 'Bruce', 'Ernst', 'BERNST', '590.423.4568', '21-MAY-07', 'IT_PROG', '6000', ' - ', '103', '60']\n",
      "['105', 'David', 'Austin', 'DAUSTIN', '590.423.4569', '25-JUN-05', 'IT_PROG', '4800', ' - ', '103', '60']\n",
      "['106', 'Valli', 'Pataballa', 'VPATABAL', '590.423.4560', '05-FEB-06', 'IT_PROG', '4800', ' - ', '103', '60']\n",
      "['107', 'Diana', 'Lorentz', 'DLORENTZ', '590.423.5567', '07-FEB-07', 'IT_PROG', '4200', ' - ', '103', '60']\n",
      "['108', 'Nancy', 'Greenberg', 'NGREENBE', '515.124.4569', '17-AUG-02', 'FI_MGR', '12008', ' - ', '101', '100']\n",
      "['109', 'Daniel', 'Faviet', 'DFAVIET', '515.124.4169', '16-AUG-02', 'FI_ACCOUNT', '9000', ' - ', '108', '100']\n",
      "['110', 'John', 'Chen', 'JCHEN', '515.124.4269', '28-SEP-05', 'FI_ACCOUNT', '8200', ' - ', '108', '100']\n",
      "['111', 'Ismael', 'Sciarra', 'ISCIARRA', '515.124.4369', '30-SEP-05', 'FI_ACCOUNT', '7700', ' - ', '108', '100']\n",
      "['112', 'Jose Manuel', 'Urman', 'JMURMAN', '515.124.4469', '07-MAR-06', 'FI_ACCOUNT', '7800', ' - ', '108', '100']\n",
      "['113', 'Luis', 'Popp', 'LPOPP', '515.124.4567', '07-DEC-07', 'FI_ACCOUNT', '6900', ' - ', '108', '100']\n",
      "['114', 'Den', 'Raphaely', 'DRAPHEAL', '515.127.4561', '07-DEC-02', 'PU_MAN', '11000', ' - ', '100', '30']\n",
      "['115', 'Alexander', 'Khoo', 'AKHOO', '515.127.4562', '18-MAY-03', 'PU_CLERK', '3100', ' - ', '114', '30']\n",
      "['116', 'Shelli', 'Baida', 'SBAIDA', '515.127.4563', '24-DEC-05', 'PU_CLERK', '2900', ' - ', '114', '30']\n",
      "['117', 'Sigal', 'Tobias', 'STOBIAS', '515.127.4564', '24-JUL-05', 'PU_CLERK', '2800', ' - ', '114', '30']\n",
      "['118', 'Guy', 'Himuro', 'GHIMURO', '515.127.4565', '15-NOV-06', 'PU_CLERK', '2600', ' - ', '114', '30']\n",
      "['119', 'Karen', 'Colmenares', 'KCOLMENA', '515.127.4566', '10-AUG-07', 'PU_CLERK', '2500', ' - ', '114', '30']\n",
      "['120', 'Matthew', 'Weiss', 'MWEISS', '650.123.1234', '18-JUL-04', 'ST_MAN', '8000', ' - ', '100', '50']\n",
      "['121', 'Adam', 'Fripp', 'AFRIPP', '650.123.2234', '10-APR-05', 'ST_MAN', '8200', ' - ', '100', '50']\n",
      "['122', 'Payam', 'Kaufling', 'PKAUFLIN', '650.123.3234', '01-MAY-03', 'ST_MAN', '7900', ' - ', '100', '50']\n",
      "['123', 'Shanta', 'Vollman', 'SVOLLMAN', '650.123.4234', '10-OCT-05', 'ST_MAN', '6500', ' - ', '100', '50']\n",
      "['124', 'Kevin', 'Mourgos', 'KMOURGOS', '650.123.5234', '16-NOV-07', 'ST_MAN', '5800', ' - ', '100', '50']\n",
      "['125', 'Julia', 'Nayer', 'JNAYER', '650.124.1214', '16-JUL-05', 'ST_CLERK', '3200', ' - ', '120', '50']\n",
      "['126', 'Irene', 'Mikkilineni', 'IMIKKILI', '650.124.1224', '28-SEP-06', 'ST_CLERK', '2700', ' - ', '120', '50']\n",
      "['127', 'James', 'Landry', 'JLANDRY', '650.124.1334', '14-JAN-07', 'ST_CLERK', '2400', ' - ', '120', '50']\n",
      "['128', 'Steven', 'Markle', 'SMARKLE', '650.124.1434', '08-MAR-08', 'ST_CLERK', '2200', ' - ', '120', '50']\n",
      "['129', 'Laura', 'Bissot', 'LBISSOT', '650.124.5234', '20-AUG-05', 'ST_CLERK', '3300', ' - ', '121', '50']\n",
      "['130', 'Mozhe', 'Atkinson', 'MATKINSO', '650.124.6234', '30-OCT-05', 'ST_CLERK', '2800', ' - ', '121', '50']\n",
      "['131', 'James', 'Marlow', 'JAMRLOW', '650.124.7234', '16-FEB-05', 'ST_CLERK', '2500', ' - ', '121', '50']\n",
      "['132', 'TJ', 'Olson', 'TJOLSON', '650.124.8234', '10-APR-07', 'ST_CLERK', '2100', ' - ', '121', '50']\n",
      "['133', 'Jason', 'Mallin', 'JMALLIN', '650.127.1934', '14-JUN-04', 'ST_CLERK', '3300', ' - ', '122', '50']\n",
      "['134', 'Michael', 'Rogers', 'MROGERS', '650.127.1834', '26-AUG-06', 'ST_CLERK', '2900', ' - ', '122', '50']\n",
      "['135', 'Ki', 'Gee', 'KGEE', '650.127.1734', '12-DEC-07', 'ST_CLERK', '2400', ' - ', '122', '50']\n",
      "['136', 'Hazel', 'Philtanker', 'HPHILTAN', '650.127.1634', '06-FEB-08', 'ST_CLERK', '2200', ' - ', '122', '50']\n",
      "['137', 'Renske', 'Ladwig', 'RLADWIG', '650.121.1234', '14-JUL-03', 'ST_CLERK', '3600', ' - ', '123', '50']\n",
      "['138', 'Stephen', 'Stiles', 'SSTILES', '650.121.2034', '26-OCT-05', 'ST_CLERK', '3200', ' - ', '123', '50']\n",
      "['139', 'John', 'Seo', 'JSEO', '650.121.2019', '12-FEB-06', 'ST_CLERK', '2700', ' - ', '123', '50']\n",
      "['140', 'Joshua', 'Patel', 'JPATEL', '650.121.1834', '06-APR-06', 'ST_CLERK', '2500', ' - ', '123', '50']\n"
     ]
    }
   ],
   "source": [
    "import csv\n",
    "\n",
    "with open('employees.csv', 'r', newline='') as file:\n",
    "    reader = csv.reader(file)\n",
    "    for row in reader:\n",
    "        print(row)\n"
   ]
  },
  {
   "cell_type": "code",
   "execution_count": 16,
   "id": "364fbbd6",
   "metadata": {},
   "outputs": [],
   "source": [
    "#Write Mode ('w'):\n",
    "#create a new CSV file in write mode and write data to it."
   ]
  },
  {
   "cell_type": "code",
   "execution_count": 21,
   "id": "3f1c7f2b",
   "metadata": {},
   "outputs": [],
   "source": [
    "import csv\n",
    "\n",
    "data = [\n",
    "    ['Name', 'Age', 'City'],\n",
    "    ['Alice', '25', 'New York'],\n",
    "    ['Bob', '30', 'Los Angeles'],\n",
    "]\n",
    "\n",
    "with open('new_data.csv', 'w', newline='') as file:\n",
    "    writer = csv.writer(file)\n",
    "    writer.writerows(data)\n"
   ]
  },
  {
   "cell_type": "code",
   "execution_count": null,
   "id": "eef842f4",
   "metadata": {},
   "outputs": [],
   "source": [
    "#Append Mode ('a'):\n",
    "\n",
    "#open an existing CSV file in append mode and add new data to it."
   ]
  },
  {
   "cell_type": "code",
   "execution_count": 22,
   "id": "131058ac",
   "metadata": {},
   "outputs": [],
   "source": [
    "import csv\n",
    "\n",
    "new_data = ['Carol', '28', 'Chicago']\n",
    "\n",
    "with open('new_data.csv', 'a', newline='') as file:\n",
    "    writer = csv.writer(file)\n",
    "    writer.writerow(new_data)\n"
   ]
  },
  {
   "cell_type": "code",
   "execution_count": 24,
   "id": "75912372",
   "metadata": {},
   "outputs": [],
   "source": [
    "#Read and Write Mode ('r+'):\n",
    "    \n",
    "#open an existing CSV file in read and write mode, read its content, and then modify it."
   ]
  },
  {
   "cell_type": "code",
   "execution_count": 25,
   "id": "7fe442e4",
   "metadata": {},
   "outputs": [],
   "source": [
    "import csv\n",
    "\n",
    "with open('new_data.csv', 'r+', newline='') as file:\n",
    "    reader = csv.reader(file)\n",
    "    data = [row for row in reader]\n",
    "\n",
    "    # Modify the data (for example, changing 'Bob' to 'Robert')\n",
    "    for row in data:\n",
    "        if row[0] == 'Bob':\n",
    "            row[0] = 'Robert'\n",
    "\n",
    "    # Move the file pointer to the beginning and write the modified data\n",
    "    file.seek(0)\n",
    "    writer = csv.writer(file)\n",
    "    writer.writerows(data)\n",
    "    file.truncate()\n"
   ]
  },
  {
   "cell_type": "code",
   "execution_count": null,
   "id": "be6c851f",
   "metadata": {},
   "outputs": [],
   "source": [
    "#Exclusive Creation Mode ('x'):\n",
    "\n",
    "# Attempt to create a new CSV file in exclusive creation mode. \n",
    "# If the file already exists, it will raise a FileExistsError."
   ]
  },
  {
   "cell_type": "code",
   "execution_count": 26,
   "id": "daba85ab",
   "metadata": {},
   "outputs": [
    {
     "name": "stdout",
     "output_type": "stream",
     "text": [
      "File 'new_data.csv' already exists.\n"
     ]
    }
   ],
   "source": [
    "import csv\n",
    "\n",
    "try:\n",
    "    with open('new_data.csv', 'x', newline='') as file:\n",
    "        writer = csv.writer(file)\n",
    "        writer.writerow(['John', '22', 'Seattle'])\n",
    "except FileExistsError:\n",
    "    print(\"File 'new_data.csv' already exists.\")\n"
   ]
  },
  {
   "cell_type": "markdown",
   "id": "fb13605d",
   "metadata": {},
   "source": [
    "# Exception Handling in Python​"
   ]
  },
  {
   "cell_type": "code",
   "execution_count": 33,
   "id": "03a70200",
   "metadata": {},
   "outputs": [
    {
     "name": "stdout",
     "output_type": "stream",
     "text": [
      "Enter a number: 5\n",
      "Enter another number: \"abc\"\n",
      "Error: Invalid input. Please enter a valid number.\n",
      "Execution completed.\n"
     ]
    }
   ],
   "source": [
    "try:\n",
    "    # Code that might raise an exception\n",
    "    num1 = int(input(\"Enter a number: \"))\n",
    "    num2 = int(input(\"Enter another number: \"))\n",
    "    result = num1 / num2\n",
    "    print(\"Result:\", result)\n",
    "except ZeroDivisionError:\n",
    "    print(\"Error: Division by zero\")\n",
    "except ValueError:\n",
    "    print(\"Error: Invalid input. Please enter a valid number.\")\n",
    "except Exception as e:\n",
    "    print(f\"An unexpected error occurred: {e}\")\n",
    "else:\n",
    "    print(\"No exceptions occurred.\")\n",
    "finally:\n",
    "    print(\"Execution completed.\")\n"
   ]
  },
  {
   "cell_type": "markdown",
   "id": "c8abcb74",
   "metadata": {},
   "source": [
    "# Classes and Objects"
   ]
  },
  {
   "cell_type": "code",
   "execution_count": 35,
   "id": "b59de759",
   "metadata": {},
   "outputs": [
    {
     "name": "stdout",
     "output_type": "stream",
     "text": [
      "<class 'int'>\n",
      "<class 'str'>\n",
      "<class 'list'>\n"
     ]
    }
   ],
   "source": [
    "\n",
    "#everything is an object\" means that every entity in the Python programming language is represented as an object\n",
    "\n",
    "x = 42\n",
    "y = \"Hello\"\n",
    "z = [1, 2, 3]\n",
    "\n",
    "print(type(x))  # <class 'int'>\n",
    "print(type(y))  # <class 'str'>\n",
    "print(type(z))  # <class 'list'>\n",
    "\n",
    "\n"
   ]
  },
  {
   "cell_type": "code",
   "execution_count": 34,
   "id": "aae3b489",
   "metadata": {},
   "outputs": [
    {
     "name": "stdout",
     "output_type": "stream",
     "text": [
      "Alice\n",
      "25\n",
      "Hello, my name is Alice and I am 30 years old.\n",
      "Happy birthday, Bob! You are now 26 years old.\n"
     ]
    }
   ],
   "source": [
    "class Person:\n",
    "    # Class attribute\n",
    "    species = \"Homo sapiens\"\n",
    "\n",
    "    def __init__(self, name, age):\n",
    "        # Instance attributes\n",
    "        self.name = name\n",
    "        self.age = age\n",
    "\n",
    "    def say_hello(self):\n",
    "        # Instance method\n",
    "        print(f\"Hello, my name is {self.name} and I am {self.age} years old.\")\n",
    "\n",
    "    def have_birthday(self):\n",
    "        # Another instance method\n",
    "        self.age += 1\n",
    "        print(f\"Happy birthday, {self.name}! You are now {self.age} years old.\")\n",
    "\n",
    "        \n",
    "# Create instances of the Person class\n",
    "person1 = Person(\"Alice\", 30)\n",
    "person2 = Person(\"Bob\", 25)\n",
    "person = Person(\"Alice\", 30)\n",
    "print(person.species)  # Output: Homo sapiens\n",
    "\n",
    "# Access instance attributes\n",
    "print(person1.name)  # Output: Alice\n",
    "print(person2.age)   # Output: 25\n",
    "\n",
    "# Call instance methods\n",
    "person1.say_hello()   # Output: Hello, my name is Alice and I am 30 years old.\n",
    "person2.have_birthday()  # Output: Happy birthday, Bob! You are now 26 years old.\n"
   ]
  },
  {
   "cell_type": "code",
   "execution_count": 40,
   "id": "7779e3d5",
   "metadata": {},
   "outputs": [
    {
     "name": "stdout",
     "output_type": "stream",
     "text": [
      "John\n",
      "30\n"
     ]
    }
   ],
   "source": [
    "'''The __init__ function is commonly used to initialize the attributes or properties of an object when it is created, \n",
    "but it's not required for every class.\n",
    "\n",
    "If you don't provide an __init__ method, Python will use the default constructor provided by the base class object. \n",
    "This default constructor doesn't do \n",
    "anything special and simply creates an empty object\n",
    "'''\n",
    "\n",
    "class MyClass:\n",
    "    pass\n",
    "\n",
    "# Creating an instance of MyClass\n",
    "obj = MyClass()\n",
    "\n",
    "# You can add attributes to the object even without an __init__ method\n",
    "obj.name = \"John\"\n",
    "obj.age = 30\n",
    "\n",
    "print(obj.name)  # Outputs: \"John\"\n",
    "print(obj.age)   # Outputs: 30\n"
   ]
  },
  {
   "cell_type": "markdown",
   "id": "0d76e9ac",
   "metadata": {},
   "source": [
    "# Encapsulation in Python:"
   ]
  },
  {
   "cell_type": "code",
   "execution_count": 36,
   "id": "c6b9cb77",
   "metadata": {},
   "outputs": [
    {
     "name": "stdout",
     "output_type": "stream",
     "text": [
      "Alice\n",
      "20\n",
      "Bob\n",
      "22\n"
     ]
    }
   ],
   "source": [
    "class Student:\n",
    "    \n",
    "    def __init__(self, name, age):\n",
    "        self._name = name  # Private attribute (convention)\n",
    "        self._age = age    # Private attribute (convention)\n",
    "\n",
    "    # Getter method for name\n",
    "    def get_name(self):\n",
    "        return self._name\n",
    "\n",
    "    # Setter method for name\n",
    "    def set_name(self, name):\n",
    "        if len(name) > 0:\n",
    "            self._name = name\n",
    "\n",
    "    # Getter method for age\n",
    "    def get_age(self):\n",
    "        return self._age\n",
    "\n",
    "    # Setter method for age\n",
    "    def set_age(self, age):\n",
    "        if age >= 0:\n",
    "            self._age = age\n",
    "\n",
    "# Creating an instance of the Student class\n",
    "student1 = Student(\"Alice\", 20)\n",
    "\n",
    "# Accessing attributes using getter methods\n",
    "print(student1.get_name())  # Output: Alice\n",
    "print(student1.get_age())   # Output: 20\n",
    "\n",
    "# Modifying attributes using setter methods\n",
    "student1.set_name(\"Bob\")\n",
    "student1.set_age(22)\n",
    "\n",
    "# Accessing modified attributes\n",
    "print(student1.get_name())  # Output: Bob\n",
    "print(student1.get_age())   # Output: 22\n"
   ]
  },
  {
   "cell_type": "code",
   "execution_count": 37,
   "id": "81f31668",
   "metadata": {},
   "outputs": [
    {
     "name": "stdout",
     "output_type": "stream",
     "text": [
      "Buddy says Woof!\n",
      "Whiskers says Meow!\n"
     ]
    }
   ],
   "source": [
    "class Animal:\n",
    "    def __init__(self, name):\n",
    "        self.name = name\n",
    "\n",
    "    def speak(self):\n",
    "        pass\n",
    "\n",
    "class Dog(Animal):\n",
    "    def speak(self):\n",
    "        return f\"{self.name} says Woof!\"\n",
    "\n",
    "class Cat(Animal):\n",
    "    def speak(self):\n",
    "        return f\"{self.name} says Meow!\"\n",
    "\n",
    "# Creating instances of subclasses\n",
    "dog = Dog(\"Buddy\")\n",
    "cat = Cat(\"Whiskers\")\n",
    "\n",
    "# Calling subclass methods\n",
    "print(dog.speak())  # Output: Buddy says Woof!\n",
    "print(cat.speak())  # Output: Whiskers says Meow!\n"
   ]
  },
  {
   "cell_type": "markdown",
   "id": "2a552f98",
   "metadata": {},
   "source": [
    "# Polymorphism in Python"
   ]
  },
  {
   "cell_type": "code",
   "execution_count": 38,
   "id": "a8dfa1ac",
   "metadata": {},
   "outputs": [
    {
     "name": "stdout",
     "output_type": "stream",
     "text": [
      "6\n",
      "3\n"
     ]
    }
   ],
   "source": [
    "# Python program to demonstrate in-built poly-\n",
    "# morphic functions\n",
    "\n",
    "# len() being used for a string\n",
    "print(len(\"python\"))\n",
    "\n",
    "# len() being used for a list\n",
    "print(len([10, 20, 30]))\n"
   ]
  },
  {
   "cell_type": "code",
   "execution_count": 39,
   "id": "f35343f8",
   "metadata": {},
   "outputs": [],
   "source": [
    "#Polymorphism with Inheritance: "
   ]
  },
  {
   "cell_type": "code",
   "execution_count": 41,
   "id": "b2fb66e1",
   "metadata": {},
   "outputs": [
    {
     "name": "stdout",
     "output_type": "stream",
     "text": [
      "Area: 78.5, Perimeter: 31.400000000000002\n",
      "Area: 24, Perimeter: 20\n"
     ]
    }
   ],
   "source": [
    "class Shape:\n",
    "    def area(self):\n",
    "        pass\n",
    "\n",
    "    def perimeter(self):\n",
    "        pass\n",
    "\n",
    "class Circle(Shape):\n",
    "    def __init__(self, radius):\n",
    "        self.radius = radius\n",
    "\n",
    "    def area(self):\n",
    "        return 3.14 * self.radius * self.radius\n",
    "\n",
    "    def perimeter(self):\n",
    "        return 2 * 3.14 * self.radius\n",
    "\n",
    "class Rectangle(Shape):\n",
    "    def __init__(self, length, width):\n",
    "        self.length = length\n",
    "        self.width = width\n",
    "\n",
    "    def area(self):\n",
    "        return self.length * self.width\n",
    "\n",
    "    def perimeter(self):\n",
    "        return 2 * (self.length + self.width)\n",
    "\n",
    "# Polymorphism occurs here as we create a list of different shapes (Circle and Rectangle)\n",
    "shapes = [Circle(5), Rectangle(4, 6)]\n",
    "\n",
    "# We iterate through the shapes list and call their area() and perimeter() methods\n",
    "# polymorphically using the Shape reference.\n",
    "for shape in shapes:\n",
    "    print(f\"Area: {shape.area()}, Perimeter: {shape.perimeter()}\")\n"
   ]
  },
  {
   "cell_type": "code",
   "execution_count": null,
   "id": "17675344",
   "metadata": {},
   "outputs": [],
   "source": []
  }
 ],
 "metadata": {
  "kernelspec": {
   "display_name": "Python 3 (ipykernel)",
   "language": "python",
   "name": "python3"
  },
  "language_info": {
   "codemirror_mode": {
    "name": "ipython",
    "version": 3
   },
   "file_extension": ".py",
   "mimetype": "text/x-python",
   "name": "python",
   "nbconvert_exporter": "python",
   "pygments_lexer": "ipython3",
   "version": "3.10.9"
  }
 },
 "nbformat": 4,
 "nbformat_minor": 5
}
