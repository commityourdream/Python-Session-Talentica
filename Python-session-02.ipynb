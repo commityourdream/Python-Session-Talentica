{
 "cells": [
  {
   "cell_type": "markdown",
   "id": "e8f5012f",
   "metadata": {},
   "source": [
    "# Creating NumPy Arrays"
   ]
  },
  {
   "cell_type": "code",
   "execution_count": 1,
   "id": "4783e4d4",
   "metadata": {},
   "outputs": [],
   "source": [
    "# Installation: pip3 install numpy\n",
    "#Importing NumPy: import numpy as np"
   ]
  },
  {
   "cell_type": "code",
   "execution_count": 3,
   "id": "dffe12e8",
   "metadata": {},
   "outputs": [
    {
     "name": "stdout",
     "output_type": "stream",
     "text": [
      "[1 2 3 4 5]\n"
     ]
    }
   ],
   "source": [
    "#Using np.array():\n",
    "\n",
    "import numpy as np\n",
    "\n",
    "# Create an array from a Python list\n",
    "my_list = [1, 2, 3, 4, 5]\n",
    "my_array = np.array(my_list)\n",
    "print(my_array)\n"
   ]
  },
  {
   "cell_type": "code",
   "execution_count": 3,
   "id": "daa049bc",
   "metadata": {},
   "outputs": [
    {
     "name": "stdout",
     "output_type": "stream",
     "text": [
      "[0. 0. 0. 0. 0.]\n",
      "[[1. 1. 1. 1.]\n",
      " [1. 1. 1. 1.]\n",
      " [1. 1. 1. 1.]]\n"
     ]
    }
   ],
   "source": [
    "#Using np.zeros() and np.ones() to create arrays filled with zeros or ones:\n",
    "\n",
    "import numpy as np\n",
    "\n",
    "# Create a 1D array of zeros with 5 elements\n",
    "zeros_array = np.zeros(5)\n",
    "print(zeros_array)\n",
    "\n",
    "# Create a 2D array of ones with a shape of (3, 4)\n",
    "ones_array = np.ones((3, 4))\n",
    "print(ones_array)\n"
   ]
  },
  {
   "cell_type": "code",
   "execution_count": 6,
   "id": "ee664fd8",
   "metadata": {},
   "outputs": [
    {
     "name": "stdout",
     "output_type": "stream",
     "text": [
      "[0 1 2 3 4 5 6 7 8 9]\n"
     ]
    }
   ],
   "source": [
    "#Using np.arange() to create an array with regularly spaced values:\n",
    "import numpy as np\n",
    "\n",
    "# Create an array with values from 0 to 9 (exclusive) with a step of 1\n",
    "arange_array = np.arange(0, 10, 1)\n",
    "print(arange_array)\n"
   ]
  },
  {
   "cell_type": "code",
   "execution_count": 11,
   "id": "784b4202",
   "metadata": {},
   "outputs": [
    {
     "name": "stdout",
     "output_type": "stream",
     "text": [
      "[ 0.  1.  2.  3.  4.  5.  6.  7.  8.  9. 10.]\n"
     ]
    }
   ],
   "source": [
    "#Using np.linspace() to create an array with evenly spaced values over a specified range:\n",
    "import numpy as np\n",
    "\n",
    "# Create an array with 10 evenly spaced values from 0 to 1 (inclusive)\n",
    "linspace_array = np.linspace(0, 10, 11)\n",
    "print(linspace_array)\n"
   ]
  },
  {
   "cell_type": "code",
   "execution_count": 14,
   "id": "7907e27a",
   "metadata": {},
   "outputs": [
    {
     "name": "stdout",
     "output_type": "stream",
     "text": [
      "<class 'float'>\n",
      "<class 'int'>\n"
     ]
    }
   ],
   "source": [
    "a=10.5\n",
    "b=11\n",
    "print(type(a))\n",
    "print(type(b))"
   ]
  },
  {
   "cell_type": "markdown",
   "id": "8128f850",
   "metadata": {},
   "source": [
    "# Array Operations with NumPy"
   ]
  },
  {
   "cell_type": "code",
   "execution_count": 15,
   "id": "ef1e1044",
   "metadata": {},
   "outputs": [
    {
     "name": "stdout",
     "output_type": "stream",
     "text": [
      "[5 7 9]\n",
      "[-3 -3 -3]\n",
      "[ 4 10 18]\n",
      "[0.25 0.4  0.5 ]\n"
     ]
    }
   ],
   "source": [
    "#Arithmetic Operations\n",
    "\n",
    "import numpy as np\n",
    "\n",
    "# Creating two NumPy arrays\n",
    "arr1 = np.array([1, 2, 3])\n",
    "arr2 = np.array([4, 5, 6])\n",
    "\n",
    "# Addition\n",
    "result_add = arr1 + arr2  # [5, 7, 9]\n",
    "print(result_add)\n",
    "# Subtraction\n",
    "result_sub = arr1 - arr2  # [-3, -3, -3]\n",
    "print(result_sub)\n",
    "# Multiplication\n",
    "result_mul = arr1 * arr2  # [4, 10, 18]\n",
    "print(result_mul)\n",
    "# Division\n",
    "result_div = arr1 / arr2  # [0.25, 0.4, 0.5]\n",
    "print(result_div)"
   ]
  },
  {
   "cell_type": "code",
   "execution_count": 16,
   "id": "42882c46",
   "metadata": {},
   "outputs": [
    {
     "name": "stdout",
     "output_type": "stream",
     "text": [
      "[1 4 9]\n",
      "[1.         1.41421356 1.73205081]\n",
      "[ 2.71828183  7.3890561  20.08553692]\n"
     ]
    }
   ],
   "source": [
    "#Element-wise Operations:\n",
    "import numpy as np\n",
    "\n",
    "arr = np.array([1, 2, 3])\n",
    "\n",
    "# Element-wise square\n",
    "squared = np.square(arr)  # [1, 4, 9]\n",
    "print(squared)\n",
    "# Element-wise square root\n",
    "sqrted = np.sqrt(arr)  # [1.0, 1.41421356, 1.73205081]\n",
    "print(sqrted)\n",
    "# Element-wise exponentiation (e^x)\n",
    "exp_arr = np.exp(arr)  # [2.71828183, 7.3890561, 20.08553692]\n",
    "print(exp_arr)"
   ]
  },
  {
   "cell_type": "code",
   "execution_count": 14,
   "id": "55855384",
   "metadata": {},
   "outputs": [
    {
     "data": {
      "text/plain": [
       "'Broadcasting:\\nBroadcasting allows NumPy to work with arrays of different shapes during arithmetic operations. \\nIt automatically expands smaller arrays to match the shape of larger arrays.\\n'"
      ]
     },
     "execution_count": 14,
     "metadata": {},
     "output_type": "execute_result"
    }
   ],
   "source": [
    "'''Broadcasting:\n",
    "Broadcasting allows NumPy to work with arrays of different shapes during arithmetic operations. \n",
    "It automatically expands smaller arrays to match the shape of larger arrays.\n",
    "'''"
   ]
  },
  {
   "cell_type": "code",
   "execution_count": 15,
   "id": "56cb8bee",
   "metadata": {},
   "outputs": [],
   "source": [
    "import numpy as np\n",
    "\n",
    "arr = np.array([1, 2, 3])\n",
    "scalar = 2\n",
    "\n",
    "# Broadcasting scalar to the array\n",
    "result = arr + scalar  # [3, 4, 5]\n"
   ]
  },
  {
   "cell_type": "code",
   "execution_count": 2,
   "id": "04f986aa",
   "metadata": {},
   "outputs": [
    {
     "name": "stdout",
     "output_type": "stream",
     "text": [
      "First array:\n",
      "[[ 0.  0.  0.]\n",
      " [10. 10. 10.]\n",
      " [20. 20. 20.]\n",
      " [30. 30. 30.]]\n",
      "\n",
      "\n",
      "Second array:\n",
      "[1. 2. 3.]\n",
      "\n",
      "\n",
      "First Array + Second Array\n",
      "[[ 1.  2.  3.]\n",
      " [11. 12. 13.]\n",
      " [21. 22. 23.]\n",
      " [31. 32. 33.]]\n"
     ]
    }
   ],
   "source": [
    "import numpy as np \n",
    "a = np.array([[0.0,0.0,0.0],[10.0,10.0,10.0],[20.0,20.0,20.0],[30.0,30.0,30.0]]) \n",
    "b = np.array([1.0,2.0,3.0])  \n",
    "   \n",
    "print('First array:')\n",
    "print(a)\n",
    "print('\\n')  \n",
    "   \n",
    "print('Second array:') \n",
    "print(b)\n",
    "print('\\n')  \n",
    "   \n",
    "print('First Array + Second Array')\n",
    "print(a + b)"
   ]
  },
  {
   "cell_type": "markdown",
   "id": "52e2352c",
   "metadata": {},
   "source": [
    "# Indexing NumPy Arrays:"
   ]
  },
  {
   "cell_type": "code",
   "execution_count": 17,
   "id": "97212ce4",
   "metadata": {},
   "outputs": [
    {
     "name": "stdout",
     "output_type": "stream",
     "text": [
      "1\n",
      "3\n"
     ]
    }
   ],
   "source": [
    "import numpy as np\n",
    "\n",
    "# Create a NumPy array\n",
    "arr = np.array([1, 2, 3, 4, 5])\n",
    "\n",
    "# Access the first element (index 0)\n",
    "first_element = arr[0]\n",
    "print(first_element)  # Output: 1\n",
    "\n",
    "# Access the third element (index 2)\n",
    "third_element = arr[2]\n",
    "print(third_element)  # Output: 3\n"
   ]
  },
  {
   "cell_type": "markdown",
   "id": "4ded237b",
   "metadata": {},
   "source": [
    "# Slicing NumPy Arrays:"
   ]
  },
  {
   "cell_type": "code",
   "execution_count": 18,
   "id": "467371e3",
   "metadata": {},
   "outputs": [
    {
     "name": "stdout",
     "output_type": "stream",
     "text": [
      "[3 4 5]\n",
      "[2 4 6]\n",
      "[ 6  7  8  9 10]\n"
     ]
    }
   ],
   "source": [
    "import numpy as np\n",
    "\n",
    "# Create a NumPy array\n",
    "arr = np.array([1, 2, 3, 4, 5, 6, 7, 8, 9, 10])\n",
    "\n",
    "# Slice to get elements from index 2 to 5 (exclusive)\n",
    "sliced_arr = arr[2:5]\n",
    "print(sliced_arr)  # Output: [3 4 5]\n",
    "\n",
    "# Slice to get every second element from index 1 to 7\n",
    "sliced_arr = arr[1:7:2]\n",
    "print(sliced_arr)  # Output: [2 4 6]\n",
    "\n",
    "# Slice to get elements from index 5 to the end\n",
    "sliced_arr = arr[5:]\n",
    "print(sliced_arr)  # Output: [ 6  7  8  9 10]\n"
   ]
  },
  {
   "cell_type": "code",
   "execution_count": 19,
   "id": "9cf1b627",
   "metadata": {},
   "outputs": [],
   "source": [
    "#Multidimensional Array Indexing and Slicing:"
   ]
  },
  {
   "cell_type": "code",
   "execution_count": 19,
   "id": "35d1322d",
   "metadata": {},
   "outputs": [
    {
     "name": "stdout",
     "output_type": "stream",
     "text": [
      "[[1 2 3]\n",
      " [4 5 6]\n",
      " [7 8 9]]\n",
      "6\n",
      "[[1 2 3]\n",
      " [4 5 6]]\n",
      "[[2 3]\n",
      " [5 6]\n",
      " [8 9]]\n"
     ]
    }
   ],
   "source": [
    "import numpy as np\n",
    "\n",
    "# Create a 2D NumPy array\n",
    "matrix = np.array([[1, 2, 3], [4, 5, 6], [7, 8, 9]])\n",
    "print(matrix)\n",
    "\n",
    "# Access an individual element\n",
    "element = matrix[1, 2]  # Row 1, Column 2\n",
    "print(element)  # Output: 6\n",
    "\n",
    "# Slice to get the first two rows and all columns\n",
    "sliced_matrix = matrix[:2, :]\n",
    "print(sliced_matrix)\n",
    "# Output:\n",
    "# [[1 2 3]\n",
    "#  [4 5 6]]\n",
    "\n",
    "# Slice to get the last two columns and all rows\n",
    "sliced_matrix = matrix[:, -2:]\n",
    "print(sliced_matrix)\n",
    "# Output:\n",
    "# [[2 3]\n",
    "#  [5 6]\n",
    "#  [8 9]]\n"
   ]
  },
  {
   "cell_type": "code",
   "execution_count": null,
   "id": "90179c18",
   "metadata": {},
   "outputs": [],
   "source": []
  },
  {
   "cell_type": "markdown",
   "id": "7acb5d66",
   "metadata": {},
   "source": [
    "# Pandas"
   ]
  },
  {
   "cell_type": "code",
   "execution_count": null,
   "id": "1419eaaf",
   "metadata": {},
   "outputs": [],
   "source": [
    "# Installation: pip3 install pandas\n",
    "#Importing Pandas: import pandas as pd"
   ]
  },
  {
   "cell_type": "code",
   "execution_count": null,
   "id": "2611b633",
   "metadata": {},
   "outputs": [],
   "source": [
    "#Pandas Series:\n",
    "\n",
    "Creating a Pandas Series:\n",
    "\n",
    "You can create a Pandas Series using the pd.Series() constructor or by converting a Python list,\n",
    "NumPy array, or dictionary into a Series."
   ]
  },
  {
   "cell_type": "code",
   "execution_count": 20,
   "id": "16e23572",
   "metadata": {},
   "outputs": [
    {
     "name": "stdout",
     "output_type": "stream",
     "text": [
      "0    10\n",
      "1    20\n",
      "2    30\n",
      "3    40\n",
      "dtype: int64\n"
     ]
    }
   ],
   "source": [
    "import pandas as pd\n",
    "\n",
    "# Creating a Series from a list\n",
    "data = [10, 20, 30, 40]\n",
    "series = pd.Series(data)\n",
    "print(series)\n"
   ]
  },
  {
   "cell_type": "code",
   "execution_count": 23,
   "id": "3ed8a14a",
   "metadata": {},
   "outputs": [
    {
     "name": "stdout",
     "output_type": "stream",
     "text": [
      "30\n"
     ]
    }
   ],
   "source": [
    "#Accessing elements of a Series:\n",
    "print(series[2])  # Access the element at index 2 (30)\n"
   ]
  },
  {
   "cell_type": "code",
   "execution_count": 21,
   "id": "113daf88",
   "metadata": {},
   "outputs": [
    {
     "name": "stdout",
     "output_type": "stream",
     "text": [
      "0    10\n",
      "1    20\n",
      "2    30\n",
      "3    40\n",
      "dtype: int32\n"
     ]
    }
   ],
   "source": [
    "import pandas as pd\n",
    "import numpy as np\n",
    "\n",
    "# Creating a NumPy array\n",
    "numpy_array = np.array([10, 20, 30, 40])\n",
    "\n",
    "# Creating a Pandas Series from the NumPy array\n",
    "series_from_array = pd.Series(numpy_array)\n",
    "print(series_from_array)\n"
   ]
  },
  {
   "cell_type": "code",
   "execution_count": 25,
   "id": "2273e7df",
   "metadata": {},
   "outputs": [
    {
     "name": "stdout",
     "output_type": "stream",
     "text": [
      "A    100\n",
      "B    200\n",
      "C    300\n",
      "D    400\n",
      "dtype: int64\n"
     ]
    }
   ],
   "source": [
    "import pandas as pd\n",
    "\n",
    "# Creating a dictionary\n",
    "data_dict = {'A': 100, 'B': 200, 'C': 300, 'D': 400}\n",
    "\n",
    "# Creating a Pandas Series from the dictionary\n",
    "series_from_dict = pd.Series(data_dict)\n",
    "print(series_from_dict)\n"
   ]
  },
  {
   "cell_type": "code",
   "execution_count": 27,
   "id": "9a0891e5",
   "metadata": {},
   "outputs": [],
   "source": [
    "# Creating a Pandas DataFrame:\n",
    "You can create a DataFrame from various data sources, such as lists,\n",
    "NumPy arrays, dictionaries, or by reading data from external files like CSV or Excel."
   ]
  },
  {
   "cell_type": "code",
   "execution_count": 22,
   "id": "327bfe1e",
   "metadata": {},
   "outputs": [
    {
     "name": "stdout",
     "output_type": "stream",
     "text": [
      "      Name  Age         City\n",
      "0    Alice   25     New York\n",
      "1      Bob   30  Los Angeles\n",
      "2  Charlie   35      Chicago\n",
      "3    David   40      Houston\n"
     ]
    }
   ],
   "source": [
    "import pandas as pd\n",
    "\n",
    "# Creating a DataFrame from a dictionary\n",
    "data = {\n",
    "    'Name': ['Alice', 'Bob', 'Charlie', 'David'],\n",
    "    'Age': [25, 30, 35, 40],\n",
    "    'City': ['New York', 'Los Angeles', 'Chicago', 'Houston']\n",
    "}\n",
    "df = pd.DataFrame(data)\n",
    "print(df)\n"
   ]
  },
  {
   "cell_type": "code",
   "execution_count": 29,
   "id": "c7eddb1c",
   "metadata": {},
   "outputs": [
    {
     "name": "stdout",
     "output_type": "stream",
     "text": [
      "0      Alice\n",
      "1        Bob\n",
      "2    Charlie\n",
      "3      David\n",
      "Name: Name, dtype: object\n",
      "30\n"
     ]
    }
   ],
   "source": [
    "# Accessing a specific column\n",
    "print(df['Name'])\n",
    "\n",
    "# Accessing a specific cell\n",
    "print(df.at[1, 'Age'])\n"
   ]
  },
  {
   "cell_type": "code",
   "execution_count": 25,
   "id": "159e4da9",
   "metadata": {},
   "outputs": [
    {
     "name": "stdout",
     "output_type": "stream",
     "text": [
      "      Name  Age         City\n",
      "0    Alice   25     New York\n",
      "1      Bob   30  Los Angeles\n",
      "2  Charlie   35      Chicago\n",
      "3    David   40      Houston\n"
     ]
    }
   ],
   "source": [
    "#Creating a Pandas DataFrame from Lists:\n",
    "import pandas as pd\n",
    "\n",
    "# Creating lists for data\n",
    "names = ['Alice', 'Bob', 'Charlie', 'David']\n",
    "ages = [25, 30, 35, 40]\n",
    "cities = ['New York', 'Los Angeles', 'Chicago', 'Houston']\n",
    "\n",
    "# Creating a DataFrame from lists\n",
    "data = {'Name': names, 'Age': ages, 'City': cities}\n",
    "df_from_lists = pd.DataFrame(data)\n",
    "print(df_from_lists)\n"
   ]
  },
  {
   "cell_type": "code",
   "execution_count": 26,
   "id": "6fa45d6e",
   "metadata": {},
   "outputs": [
    {
     "name": "stdout",
     "output_type": "stream",
     "text": [
      "      Name  Age  Height\n",
      "0    Alice   25     160\n",
      "1      Bob   30     175\n",
      "2  Charlie   35     180\n",
      "3    David   40     170\n"
     ]
    }
   ],
   "source": [
    "#Creating a Pandas DataFrame from NumPy Arrays:\n",
    "import pandas as pd\n",
    "import numpy as np\n",
    "\n",
    "# Creating NumPy arrays\n",
    "names = np.array(['Alice', 'Bob', 'Charlie', 'David'])\n",
    "ages = np.array([25, 30, 35, 40])\n",
    "heights = np.array([160, 175, 180, 170])\n",
    "\n",
    "# Creating a DataFrame from NumPy arrays\n",
    "data = {'Name': names, 'Age': ages, 'Height': heights}\n",
    "df_from_arrays = pd.DataFrame(data)\n",
    "print(df_from_arrays)\n"
   ]
  },
  {
   "cell_type": "code",
   "execution_count": 27,
   "id": "40b51cd9",
   "metadata": {},
   "outputs": [
    {
     "name": "stdout",
     "output_type": "stream",
     "text": [
      "Index(['EMPLOYEE_ID', 'FIRST_NAME', 'LAST_NAME', 'EMAIL', 'PHONE_NUMBER',\n",
      "       'HIRE_DATE', 'JOB_ID', 'SALARY', 'COMMISSION_PCT', 'MANAGER_ID',\n",
      "       'DEPARTMENT_ID'],\n",
      "      dtype='object')\n"
     ]
    }
   ],
   "source": [
    "#Reading Data from a CSV File:\n",
    "import pandas as pd\n",
    "\n",
    "# Reading data from a CSV file\n",
    "df = pd.read_csv('employees.csv')\n",
    "\n",
    "# Display the first few rows of the DataFrame\n",
    "print(df.head(10))\n",
    "print(df.columns)"
   ]
  },
  {
   "cell_type": "code",
   "execution_count": 29,
   "id": "7dbcf562",
   "metadata": {},
   "outputs": [
    {
     "name": "stdout",
     "output_type": "stream",
     "text": [
      "   emp_id first_name last_name  hire_date\n",
      "0     100     Steven      King 2003-06-17\n",
      "1     101      Neena   Kochhar 2005-09-21\n"
     ]
    }
   ],
   "source": [
    "import pandas as pd\n",
    "\n",
    "# Reading data from an Excel file\n",
    "df = pd.read_excel('employee.xlsx', sheet_name='Sheet1')\n",
    "\n",
    "# Display the first few rows of the DataFrame\n",
    "print(df.head(2))\n"
   ]
  },
  {
   "cell_type": "code",
   "execution_count": 30,
   "id": "91cd1199",
   "metadata": {},
   "outputs": [
    {
     "name": "stdout",
     "output_type": "stream",
     "text": [
      "    Name  Age\n",
      "1    Bob   30\n",
      "3  David   35\n"
     ]
    }
   ],
   "source": [
    "#Filtering\n",
    "\n",
    "import pandas as pd\n",
    "\n",
    "# Create a sample DataFrame\n",
    "data = {'Name': ['Alice', 'Bob', 'Charlie', 'David'],\n",
    "        'Age': [25, 30, 22, 35]}\n",
    "\n",
    "df = pd.DataFrame(data)\n",
    "\n",
    "# Filter rows where Age is greater than 25\n",
    "filtered_df = df[df['Age'] > 25]\n",
    "print(filtered_df)"
   ]
  },
  {
   "cell_type": "code",
   "execution_count": 31,
   "id": "8a9f769d",
   "metadata": {},
   "outputs": [
    {
     "name": "stdout",
     "output_type": "stream",
     "text": [
      "      Name  Age\n",
      "2  Charlie   22\n",
      "0    Alice   25\n",
      "1      Bob   30\n",
      "3    David   35\n",
      "      Name  Age\n",
      "3    David   35\n",
      "1      Bob   30\n",
      "0    Alice   25\n",
      "2  Charlie   22\n"
     ]
    }
   ],
   "source": [
    "#Sorting\n",
    "# Sort the DataFrame by Age in ascending order\n",
    "sorted_df = df.sort_values(by='Age')\n",
    "print(sorted_df)\n",
    "\n",
    "# Sort the DataFrame by Age in descending order\n",
    "sorted_df_desc = df.sort_values(by='Age', ascending=False)\n",
    "print(sorted_df_desc)"
   ]
  },
  {
   "cell_type": "code",
   "execution_count": 32,
   "id": "41740892",
   "metadata": {},
   "outputs": [
    {
     "name": "stdout",
     "output_type": "stream",
     "text": [
      "28.0\n"
     ]
    }
   ],
   "source": [
    "#Aggregating\n",
    "# Calculate the mean age\n",
    "mean_age = df['Age'].mean()\n",
    "print(mean_age)\n",
    "# Group by Name and calculate the mean age for each group\n",
    "grouped_df = df.groupby('Name')['Age'].mean()\n"
   ]
  },
  {
   "cell_type": "code",
   "execution_count": 36,
   "id": "bfa0369c",
   "metadata": {},
   "outputs": [
    {
     "name": "stdout",
     "output_type": "stream",
     "text": [
      "     A    B   C\n",
      "0  1.0  5.0   9\n",
      "1  2.0  NaN  10\n",
      "2  NaN  NaN  11\n",
      "3  4.0  8.0  12\n",
      "     A    B   C\n",
      "0  1.0  5.0   9\n",
      "3  4.0  8.0  12\n",
      "2.3333333333333335\n",
      "          A    B   C\n",
      "0  1.000000  5.0   9\n",
      "1  2.000000  0.0  10\n",
      "2  2.333333  0.0  11\n",
      "3  4.000000  8.0  12\n"
     ]
    }
   ],
   "source": [
    "#Step 1: Handling Missing Values\n",
    "import pandas as pd\n",
    "import numpy as np\n",
    "\n",
    "# Create a sample DataFrame with missing values\n",
    "data = {'A': [1, 2, np.nan, 4],\n",
    "        'B': [5, np.nan, np.nan, 8],\n",
    "        'C': [9, 10, 11, 12]}\n",
    "\n",
    "df = pd.DataFrame(data)\n",
    "print(df)\n",
    "\n",
    "# Remove rows with any missing values\n",
    "df_cleaned = df.dropna()\n",
    "print(df_cleaned)\n",
    "\n",
    "# Fill missing values with a specific value (e.g., mean of the column)\n",
    "mean_A = df['A'].mean()\n",
    "print(mean_A)\n",
    "\n",
    "df_filled = df.fillna({'A': mean_A, 'B': 0})\n",
    "print(df_filled)"
   ]
  },
  {
   "cell_type": "code",
   "execution_count": 38,
   "id": "eec4a2e8",
   "metadata": {},
   "outputs": [
    {
     "name": "stdout",
     "output_type": "stream",
     "text": [
      "   A  B\n",
      "0  1  4\n",
      "1  2  5\n",
      "2  2  5\n",
      "3  3  6\n",
      "   A  B\n",
      "0  1  4\n",
      "1  2  5\n",
      "3  3  6\n"
     ]
    }
   ],
   "source": [
    "#Step 2: Removing Duplicates\n",
    "# Create a sample DataFrame with duplicate rows\n",
    "data = {'A': [1, 2, 2, 3],\n",
    "        'B': [4, 5, 5, 6]}\n",
    "\n",
    "df = pd.DataFrame(data)\n",
    "print(df)\n",
    "\n",
    "# Remove duplicate rows\n",
    "df_no_duplicates = df.drop_duplicates()\n",
    "print(df_no_duplicates)"
   ]
  },
  {
   "cell_type": "code",
   "execution_count": 39,
   "id": "91bc4764",
   "metadata": {},
   "outputs": [
    {
     "name": "stdout",
     "output_type": "stream",
     "text": [
      "   A  B\n",
      "1  2  5\n",
      "2  2  5\n",
      "3  3  6\n",
      "   A  B\n",
      "0  1  4\n",
      "1  2  5\n",
      "2  2  5\n",
      "3  3  6\n"
     ]
    }
   ],
   "source": [
    "#Step 3: Filtering and Subsetting Data\n",
    "\n",
    "# Filter rows where column 'A' is greater than 1\n",
    "filtered_df = df[df['A'] > 1]\n",
    "print(filtered_df)\n",
    "# Subset specific columns\n",
    "subset_df = df[['A', 'B']]\n",
    "print(subset_df)"
   ]
  },
  {
   "cell_type": "code",
   "execution_count": 40,
   "id": "fd3b9459",
   "metadata": {},
   "outputs": [
    {
     "name": "stdout",
     "output_type": "stream",
     "text": [
      "   A  B\n",
      "3  3  6\n",
      "1  2  5\n",
      "2  2  5\n",
      "0  1  4\n"
     ]
    }
   ],
   "source": [
    "#Step 4: Sorting Data\n",
    "# Sort the DataFrame by column 'A' in descending order\n",
    "sorted_df = df.sort_values(by='A', ascending=False)\n",
    "print(sorted_df)"
   ]
  },
  {
   "cell_type": "code",
   "execution_count": 42,
   "id": "8f5fc9da",
   "metadata": {},
   "outputs": [
    {
     "name": "stdout",
     "output_type": "stream",
     "text": [
      "5.0\n",
      "A\n",
      "1     4\n",
      "2    10\n",
      "3     6\n",
      "Name: B, dtype: int64\n"
     ]
    }
   ],
   "source": [
    "#Step 5: Aggregating and Summarizing\n",
    "# Calculate the mean of column 'B'\n",
    "mean_B = df['B'].mean()\n",
    "print(mean_B)\n",
    "# Group by column 'A' and calculate the sum of column 'B' for each group\n",
    "grouped_df = df.groupby('A')['B'].sum()\n",
    "print(grouped_df)"
   ]
  },
  {
   "cell_type": "code",
   "execution_count": 41,
   "id": "8700ab24",
   "metadata": {},
   "outputs": [
    {
     "name": "stdout",
     "output_type": "stream",
     "text": [
      "0    1\n",
      "1    4\n",
      "2    4\n",
      "3    9\n",
      "Name: A_squared, dtype: int64\n"
     ]
    }
   ],
   "source": [
    "#Step 6: Feature Engineering\n",
    "# Create a new column 'A_squared' as a square of column 'A'\n",
    "df['A_squared'] = df['A'] ** 2\n",
    "print(df['A_squared'])"
   ]
  },
  {
   "cell_type": "code",
   "execution_count": null,
   "id": "45730822",
   "metadata": {},
   "outputs": [],
   "source": []
  }
 ],
 "metadata": {
  "kernelspec": {
   "display_name": "Python 3 (ipykernel)",
   "language": "python",
   "name": "python3"
  },
  "language_info": {
   "codemirror_mode": {
    "name": "ipython",
    "version": 3
   },
   "file_extension": ".py",
   "mimetype": "text/x-python",
   "name": "python",
   "nbconvert_exporter": "python",
   "pygments_lexer": "ipython3",
   "version": "3.10.9"
  }
 },
 "nbformat": 4,
 "nbformat_minor": 5
}
